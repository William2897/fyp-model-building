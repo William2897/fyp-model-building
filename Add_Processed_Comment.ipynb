{
 "cells": [
  {
   "cell_type": "code",
   "execution_count": null,
   "metadata": {},
   "outputs": [
    {
     "name": "stdout",
     "output_type": "stream",
     "text": [
      "                                      rating_comment  sentiment  confidence\n",
      "0  Everyone knows that Anatomy and physiology 1 a...          1      0.9985\n",
      "1  Absolutely loved taking her class. She's an in...          1      0.9990\n",
      "2  Dr.A gives great lectures and you really learn...          1      0.9990\n",
      "3  Great professor. She was difficult for sure, b...          1      0.9990\n",
      "4  Dr. A is a very smart professor. Be prepared t...          1      0.9976\n"
     ]
    }
   ],
   "source": [
    "import pandas as pd\n",
    "\n",
    "data = pd.read_csv(\"RMP_SET-Labelled_SA.csv\")\n",
    "print(data.head())\n",
    "\n",
    "topic_data = pd.read_csv(\"C:/Users/User/OneDrive/Desktop/topic_results.csv\")\n",
    "data.insert(1, 'processed_comment', topic_data['processed_comment'])"
   ]
  },
  {
   "cell_type": "code",
   "execution_count": 4,
   "metadata": {},
   "outputs": [
    {
     "data": {
      "text/html": [
       "<div>\n",
       "<style scoped>\n",
       "    .dataframe tbody tr th:only-of-type {\n",
       "        vertical-align: middle;\n",
       "    }\n",
       "\n",
       "    .dataframe tbody tr th {\n",
       "        vertical-align: top;\n",
       "    }\n",
       "\n",
       "    .dataframe thead th {\n",
       "        text-align: right;\n",
       "    }\n",
       "</style>\n",
       "<table border=\"1\" class=\"dataframe\">\n",
       "  <thead>\n",
       "    <tr style=\"text-align: right;\">\n",
       "      <th></th>\n",
       "      <th>rating_comment</th>\n",
       "      <th>processed_comment</th>\n",
       "      <th>sentiment</th>\n",
       "      <th>confidence</th>\n",
       "    </tr>\n",
       "  </thead>\n",
       "  <tbody>\n",
       "    <tr>\n",
       "      <th>1492658</th>\n",
       "      <td>Definitely recommend! May be very writing inte...</td>\n",
       "      <td>['definitely', 'recommend', 'may', 'write', 'i...</td>\n",
       "      <td>1</td>\n",
       "      <td>0.9990</td>\n",
       "    </tr>\n",
       "    <tr>\n",
       "      <th>1492659</th>\n",
       "      <td>Exceptional teacher. He makes sure everyone un...</td>\n",
       "      <td>['exceptional', 'make', 'sure', 'everyone', 'u...</td>\n",
       "      <td>1</td>\n",
       "      <td>0.9990</td>\n",
       "    </tr>\n",
       "    <tr>\n",
       "      <th>1492660</th>\n",
       "      <td>He is very clear that you have to work to get ...</td>\n",
       "      <td>['clear', 'work', 'get', 'good', 'grade', 'get...</td>\n",
       "      <td>1</td>\n",
       "      <td>0.9966</td>\n",
       "    </tr>\n",
       "    <tr>\n",
       "      <th>1492661</th>\n",
       "      <td>I love his teaching styles. He gives a lot of ...</td>\n",
       "      <td>['love', 'teaching', 'style', 'give', 'lot', '...</td>\n",
       "      <td>1</td>\n",
       "      <td>0.9990</td>\n",
       "    </tr>\n",
       "    <tr>\n",
       "      <th>1492662</th>\n",
       "      <td>Not clear, not helpful even when you ask him q...</td>\n",
       "      <td>['clear', 'helpful', 'even', 'ask', 'question'...</td>\n",
       "      <td>0</td>\n",
       "      <td>0.9995</td>\n",
       "    </tr>\n",
       "  </tbody>\n",
       "</table>\n",
       "</div>"
      ],
      "text/plain": [
       "                                            rating_comment  \\\n",
       "1492658  Definitely recommend! May be very writing inte...   \n",
       "1492659  Exceptional teacher. He makes sure everyone un...   \n",
       "1492660  He is very clear that you have to work to get ...   \n",
       "1492661  I love his teaching styles. He gives a lot of ...   \n",
       "1492662  Not clear, not helpful even when you ask him q...   \n",
       "\n",
       "                                         processed_comment  sentiment  \\\n",
       "1492658  ['definitely', 'recommend', 'may', 'write', 'i...          1   \n",
       "1492659  ['exceptional', 'make', 'sure', 'everyone', 'u...          1   \n",
       "1492660  ['clear', 'work', 'get', 'good', 'grade', 'get...          1   \n",
       "1492661  ['love', 'teaching', 'style', 'give', 'lot', '...          1   \n",
       "1492662  ['clear', 'helpful', 'even', 'ask', 'question'...          0   \n",
       "\n",
       "         confidence  \n",
       "1492658      0.9990  \n",
       "1492659      0.9990  \n",
       "1492660      0.9966  \n",
       "1492661      0.9990  \n",
       "1492662      0.9995  "
      ]
     },
     "execution_count": 4,
     "metadata": {},
     "output_type": "execute_result"
    }
   ],
   "source": [
    "data.tail()"
   ]
  },
  {
   "cell_type": "code",
   "execution_count": 5,
   "metadata": {},
   "outputs": [],
   "source": [
    "data.to_csv(\"RMP_SET-Labelled_SA.csv\", index=False)"
   ]
  }
 ],
 "metadata": {
  "kernelspec": {
   "display_name": "fyp-env",
   "language": "python",
   "name": "python3"
  },
  "language_info": {
   "codemirror_mode": {
    "name": "ipython",
    "version": 3
   },
   "file_extension": ".py",
   "mimetype": "text/x-python",
   "name": "python",
   "nbconvert_exporter": "python",
   "pygments_lexer": "ipython3",
   "version": "3.12.4"
  }
 },
 "nbformat": 4,
 "nbformat_minor": 2
}
